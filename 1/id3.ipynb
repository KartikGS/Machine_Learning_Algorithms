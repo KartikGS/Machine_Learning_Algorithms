{
  "cells": [
    {
      "cell_type": "code",
      "execution_count": 125,
      "metadata": {
        "id": "rE8bEscRGsuB"
      },
      "outputs": [],
      "source": [
        "import pandas as pd\n",
        "import numpy as np\n",
        "import math "
      ]
    },
    {
      "cell_type": "code",
      "execution_count": 126,
      "metadata": {
        "colab": {
          "base_uri": "https://localhost:8080/",
          "height": 330
        },
        "id": "y_RUhmkoGsuG",
        "outputId": "2e5e859a-1b0c-43f9-bf60-c835da8a8048"
      },
      "outputs": [],
      "source": [
        "data=pd.read_csv('1.csv')\n",
        "data_train=data[:int(data.shape[0]*(8/10))]\n",
        "data_test=data[int(data.shape[0]*(8/10)):]"
      ]
    },
    {
      "cell_type": "markdown",
      "metadata": {
        "id": "2q6w9mV27Mow"
      },
      "source": [
        "# Decision tree from scratch."
      ]
    },
    {
      "cell_type": "code",
      "execution_count": 127,
      "metadata": {
        "id": "IuT1ldImGsuK"
      },
      "outputs": [],
      "source": [
        "def getEntropy(d):\n",
        "  ent=0\n",
        "  for i in d['class'].value_counts():\n",
        "    ent-=i*np.log2(i/d.shape[0])/d.shape[0]\n",
        "  return ent"
      ]
    },
    {
      "cell_type": "code",
      "execution_count": 128,
      "metadata": {
        "id": "DqrinSWWGsuM"
      },
      "outputs": [],
      "source": [
        "def gain(d,f):\n",
        "  rel_cap_shape_gain=getEntropy(d)\n",
        "  vc=d[f].value_counts();\n",
        "  for i in d[f].value_counts().index:\n",
        "    rel_cap_shape_gain-=vc[i]*getEntropy(d[d[f]==i])/d.shape[0]\n",
        "  return rel_cap_shape_gain"
      ]
    },
    {
      "cell_type": "code",
      "execution_count": 129,
      "metadata": {
        "id": "h4Zv7kCYGsuN"
      },
      "outputs": [],
      "source": [
        "class Node:\n",
        "  def __init__(self):\n",
        "    self.fromFeatureVal=[]\n",
        "    self.name=None\n",
        "    self.child=[]"
      ]
    },
    {
      "cell_type": "code",
      "execution_count": 130,
      "metadata": {
        "id": "_5wRM9qFGsuR"
      },
      "outputs": [],
      "source": [
        "def buildTree(root,d,depth):\n",
        "    if d['class'].value_counts().shape[0]==1:\n",
        "        root.name='leaf'+' '+list(d['class'].value_counts().index)[0]\n",
        "        return\n",
        "    if(depth==0):\n",
        "        ec= d['class'].value_counts()[0]\n",
        "        pc= d['class'].value_counts()[1]\n",
        "        if(ec>=pc):\n",
        "            root.name='leaf e'\n",
        "        else:\n",
        "            root.name='leaf p'\n",
        "        return\n",
        "    maxGain=-100000000\n",
        "    for i in d.columns:\n",
        "        if(i!='class' and gain(d,i)>maxGain):\n",
        "            maxGain=gain(d,i)\n",
        "            feature=i\n",
        "    root.name=feature\n",
        "    for i in d[feature].value_counts().index:\n",
        "        r=Node()\n",
        "        r.fromFeatureVal.append(i)\n",
        "        buildTree(r,d[d[feature]==i].drop(columns=[feature]),depth-1)\n",
        "        root.child.append(r)\n",
        "    #Combining leave nodes\n",
        "    e=Node()\n",
        "    e.name='leaf e'\n",
        "    p=Node()\n",
        "    p.name='leaf p'\n",
        "    iter=root.child.copy()\n",
        "    for i in iter:\n",
        "        if i.name=='leaf e':\n",
        "            e.fromFeatureVal.append(i.fromFeatureVal[0])\n",
        "            root.child.remove(i)\n",
        "        if i.name=='leaf p':\n",
        "            p.fromFeatureVal.append(i.fromFeatureVal[0])\n",
        "            root.child.remove(i)\n",
        "    if(len(e.fromFeatureVal)!=0): \n",
        "        root.child.append(e)\n",
        "    if(len(p.fromFeatureVal)!=0): \n",
        "        root.child.append(p)\n",
        "    return\n"
      ]
    },
    {
      "cell_type": "code",
      "execution_count": 131,
      "metadata": {
        "id": "EoCqq9_9ONCb"
      },
      "outputs": [],
      "source": [
        "def rep(root,s):\n",
        "  print(s,root.fromFeatureVal,\" \",root.name)\n",
        "  for i in root.child:\n",
        "    rep(i,s+\"     \")"
      ]
    },
    {
      "cell_type": "code",
      "execution_count": 132,
      "metadata": {
        "id": "IgyqV9IYGsua"
      },
      "outputs": [],
      "source": [
        "def predict(root,t1):\n",
        "    if 'leaf' in root.name:\n",
        "        return root.name\n",
        "    for i in root.child:\n",
        "        if list(t1[root.name])[0] in i.fromFeatureVal:\n",
        "            return predict(i,t1)"
      ]
    },
    {
      "cell_type": "markdown",
      "metadata": {
        "id": "rJdF1Xye67Q-"
      },
      "source": [
        "## Without Dropping '?'"
      ]
    },
    {
      "cell_type": "code",
      "execution_count": 133,
      "metadata": {
        "id": "DHT75mKnGsuP"
      },
      "outputs": [
        {
          "name": "stdout",
          "output_type": "stream",
          "text": [
            " ['root']   odor\n",
            "      ['n']   spore-print-color\n",
            "           ['w']   habitat\n",
            "                ['l']   cap-color\n",
            "                     ['c', 'n']   leaf e\n",
            "                     ['w']   leaf p\n",
            "                ['w', 'g', 'p']   leaf e\n",
            "                ['d']   leaf p\n",
            "           ['n', 'k', 'h', 'o', 'y']   leaf e\n",
            "           ['r']   leaf p\n",
            "      ['a', 'l']   leaf e\n",
            "      ['f', 'p', 'y', 's', 'c', 'm']   leaf p\n"
          ]
        }
      ],
      "source": [
        "root=Node()\n",
        "root.fromFeatureVal.append('root')\n",
        "buildTree(root,data_train,10)\n",
        "rep(root,\"\")"
      ]
    },
    {
      "cell_type": "code",
      "execution_count": 134,
      "metadata": {
        "id": "pbFO3VYrGsub"
      },
      "outputs": [
        {
          "name": "stdout",
          "output_type": "stream",
          "text": [
            "1569  out of  1625  correct\n",
            "Acuuracy:  0.9655384615384616\n"
          ]
        }
      ],
      "source": [
        "pred=[]\n",
        "for i in data_test.index:\n",
        "    t1=data_test.loc[i,:].to_frame().T\n",
        "    pred.append(predict(root , t1))\n",
        "correct=0\n",
        "for i,j in zip(pred,data_test['class']):\n",
        "    if isinstance(i,str):\n",
        "        if j in i:\n",
        "            correct+=1\n",
        "print(correct, \" out of \",data_test.shape[0],\" correct\")\n",
        "print(\"Acuuracy: \",correct/data_test.shape[0])"
      ]
    },
    {
      "cell_type": "markdown",
      "metadata": {
        "id": "HEosv48pyUO-"
      },
      "source": [
        "## Checking for '?'\n",
        "\n"
      ]
    },
    {
      "cell_type": "code",
      "execution_count": 135,
      "metadata": {
        "id": "83fV6txKvtJP"
      },
      "outputs": [
        {
          "name": "stdout",
          "output_type": "stream",
          "text": [
            "stalk-root\n",
            "2480\n"
          ]
        }
      ],
      "source": [
        "for i in data.columns:\n",
        "  if '?' in list(data[i].value_counts().index):\n",
        "    print(i)\n",
        "    print(data[i].value_counts()['?'])"
      ]
    },
    {
      "cell_type": "markdown",
      "metadata": {
        "id": "1rOm8Jv6w4uX"
      },
      "source": [
        "## Dropping Column"
      ]
    },
    {
      "cell_type": "code",
      "execution_count": 136,
      "metadata": {
        "id": "GCMPGh6Lv5Cp"
      },
      "outputs": [],
      "source": [
        "dataCD=data.drop('stalk-root',axis=1)"
      ]
    },
    {
      "cell_type": "code",
      "execution_count": 137,
      "metadata": {
        "id": "CYiZ0A8vwUdX"
      },
      "outputs": [
        {
          "name": "stdout",
          "output_type": "stream",
          "text": [
            " ['root']   odor\n",
            "      ['n']   spore-print-color\n",
            "           ['w']   habitat\n",
            "                ['l']   cap-color\n",
            "                     ['c', 'n']   leaf e\n",
            "                     ['w']   leaf p\n",
            "                ['w', 'g', 'p']   leaf e\n",
            "                ['d']   leaf p\n",
            "           ['n', 'k', 'h', 'o', 'y']   leaf e\n",
            "           ['r']   leaf p\n",
            "      ['a', 'l']   leaf e\n",
            "      ['f', 'p', 'y', 's', 'c', 'm']   leaf p\n"
          ]
        }
      ],
      "source": [
        "dataCD_train=dataCD[:int(dataCD.shape[0]*(8/10))]\n",
        "dataCD_test=dataCD[int(dataCD.shape[0]*(8/10)):]\n",
        "rootCD=Node()\n",
        "rootCD.fromFeatureVal.append('root')\n",
        "buildTree(rootCD,dataCD_train,10)\n",
        "rep(rootCD,\"\")"
      ]
    },
    {
      "cell_type": "code",
      "execution_count": 138,
      "metadata": {
        "id": "NoCaoIxZxf_t"
      },
      "outputs": [
        {
          "name": "stdout",
          "output_type": "stream",
          "text": [
            "1569  out of  1625  correct\n",
            "Accuracy:  0.9655384615384616\n"
          ]
        }
      ],
      "source": [
        "predCD=[]\n",
        "for i in dataCD_test.index:\n",
        "    t1=dataCD_test.loc[i,:].to_frame().T\n",
        "    predCD.append(predict(rootCD , t1))\n",
        "correct=0\n",
        "for i,j in zip(predCD,dataCD_test['class']):\n",
        "    if isinstance(i,str):\n",
        "        if j in i:\n",
        "            correct+=1\n",
        "print(correct, \" out of \",dataCD_test.shape[0],\" correct\")\n",
        "print(\"Accuracy: \",correct/dataCD_test.shape[0])"
      ]
    },
    {
      "cell_type": "markdown",
      "metadata": {
        "id": "dU0LPOEayZtv"
      },
      "source": [
        "## Droping Rows\n",
        " "
      ]
    },
    {
      "cell_type": "code",
      "execution_count": 139,
      "metadata": {
        "id": "Pgh39WJuyes8"
      },
      "outputs": [
        {
          "name": "stdout",
          "output_type": "stream",
          "text": [
            " ['root']   odor\n",
            "      ['n']   cap-shape\n",
            "           ['x', 'f', 's', 'k']   leaf e\n",
            "           ['b']   leaf p\n",
            "      ['a', 'l']   leaf e\n",
            "      ['f', 'p', 'c']   leaf p\n"
          ]
        }
      ],
      "source": [
        "dataRD=data[data['stalk-root']!='?']\n",
        "dataRD_train=dataRD[:int(dataRD.shape[0]*(8/10))]\n",
        "dataRD_test=dataRD[int(dataRD.shape[0]*(8/10)):]\n",
        "rootRD=Node()\n",
        "rootRD.fromFeatureVal.append('root')\n",
        "buildTree(rootRD,dataRD_train,10)\n",
        "rep(rootRD,\"\")"
      ]
    },
    {
      "cell_type": "code",
      "execution_count": 140,
      "metadata": {
        "id": "KM_5_3AFzdyP"
      },
      "outputs": [
        {
          "name": "stdout",
          "output_type": "stream",
          "text": [
            "1045  out of  1129  correct\n",
            "Accuracy:  0.9255978742249779\n"
          ]
        }
      ],
      "source": [
        "predRD=[]\n",
        "for i in dataRD_test.index:\n",
        "    t1=dataRD_test.loc[i,:].to_frame().T\n",
        "    predRD.append(predict(rootRD , t1))\n",
        "correct=0\n",
        "for i,j in zip(predRD,dataRD_test['class']):\n",
        "    if isinstance(i,str):\n",
        "        if j in i:\n",
        "            correct+=1\n",
        "print(correct, \" out of \",dataRD_test.shape[0],\" correct\")\n",
        "print(\"Accuracy: \", correct/dataRD_test.shape[0])"
      ]
    },
    {
      "cell_type": "markdown",
      "metadata": {
        "id": "jOKfumzn7Tyr"
      },
      "source": [
        "# Inbuilt-Decision Tree from sklearn."
      ]
    },
    {
      "cell_type": "code",
      "execution_count": 141,
      "metadata": {
        "id": "MQYRLFje7bed"
      },
      "outputs": [],
      "source": [
        "from sklearn.tree import DecisionTreeClassifier\n",
        "from sklearn.model_selection import train_test_split\n",
        "from sklearn.preprocessing import LabelEncoder\n",
        "from sklearn.preprocessing import OneHotEncoder"
      ]
    },
    {
      "cell_type": "markdown",
      "metadata": {},
      "source": [
        "## Without removing ?\n"
      ]
    },
    {
      "cell_type": "code",
      "execution_count": 142,
      "metadata": {
        "id": "qS6ZJb-n7-16"
      },
      "outputs": [
        {
          "data": {
            "text/plain": [
              "1.0"
            ]
          },
          "execution_count": 142,
          "metadata": {},
          "output_type": "execute_result"
        }
      ],
      "source": [
        "X=data.iloc[:,1:]\n",
        "y=data.iloc[:,:1]\n",
        "ohe=OneHotEncoder()\n",
        "X_e=ohe.fit_transform(X)\n",
        "le=LabelEncoder()\n",
        "y_e=le.fit_transform(y.values.ravel())\n",
        "X_train,X_test,y_train,y_test=train_test_split(X_e,y_e,test_size=0.3)\n",
        "dtc=DecisionTreeClassifier(criterion='entropy')\n",
        "dtc.fit(X_train,y_train)\n",
        "y_pred_e=dtc.predict(X_test)\n",
        "np.count_nonzero(y_pred_e==y_test)/len(y_test)"
      ]
    },
    {
      "cell_type": "markdown",
      "metadata": {},
      "source": [
        "## Removing column containg ?"
      ]
    },
    {
      "cell_type": "code",
      "execution_count": 143,
      "metadata": {},
      "outputs": [
        {
          "data": {
            "text/plain": [
              "1.0"
            ]
          },
          "execution_count": 143,
          "metadata": {},
          "output_type": "execute_result"
        }
      ],
      "source": [
        "X=data.iloc[:,1:]\n",
        "X.drop('stalk-root',axis=1)\n",
        "y=data.iloc[:,:1]\n",
        "ohe=OneHotEncoder()\n",
        "X_e=ohe.fit_transform(X)\n",
        "le=LabelEncoder()\n",
        "y_e=le.fit_transform(y.values.ravel())\n",
        "X_train,X_test,y_train,y_test=train_test_split(X_e,y_e,test_size=0.3)\n",
        "dtc=DecisionTreeClassifier(criterion='entropy')\n",
        "dtc.fit(X_train,y_train)\n",
        "y_pred_e=dtc.predict(X_test)\n",
        "np.count_nonzero(y_pred_e==y_test)/len(y_test)"
      ]
    },
    {
      "cell_type": "markdown",
      "metadata": {},
      "source": [
        "## Removing rows contaning ?"
      ]
    },
    {
      "cell_type": "code",
      "execution_count": 144,
      "metadata": {},
      "outputs": [
        {
          "data": {
            "text/plain": [
              "1.0"
            ]
          },
          "execution_count": 144,
          "metadata": {},
          "output_type": "execute_result"
        }
      ],
      "source": [
        "dataRD=data[data['stalk-root']!='?']\n",
        "X=dataRD.iloc[:,1:]\n",
        "y=dataRD.iloc[:,:1]\n",
        "ohe=OneHotEncoder()\n",
        "X_e=ohe.fit_transform(X)\n",
        "le=LabelEncoder()\n",
        "y_e=le.fit_transform(y.values.ravel())\n",
        "X_train,X_test,y_train,y_test=train_test_split(X_e,y_e,test_size=0.3)\n",
        "dtc=DecisionTreeClassifier(criterion='entropy')\n",
        "dtc.fit(X_train,y_train)\n",
        "y_pred_e=dtc.predict(X_test)\n",
        "np.count_nonzero(y_pred_e==y_test)/len(y_test)"
      ]
    },
    {
      "cell_type": "markdown",
      "metadata": {},
      "source": [
        "# Avoiding overfitting by choosing max depth of 3"
      ]
    },
    {
      "cell_type": "markdown",
      "metadata": {},
      "source": [
        "## In Decision tree from scratch"
      ]
    },
    {
      "cell_type": "code",
      "execution_count": 145,
      "metadata": {},
      "outputs": [
        {
          "name": "stdout",
          "output_type": "stream",
          "text": [
            " []   odor\n",
            "      ['n']   spore-print-color\n",
            "           ['w']   habitat\n",
            "                ['w', 'l', 'g', 'p']   leaf e\n",
            "                ['d']   leaf p\n",
            "           ['n', 'k', 'h', 'o', 'y']   leaf e\n",
            "           ['r']   leaf p\n",
            "      ['a', 'l']   leaf e\n",
            "      ['f', 'p', 'y', 's', 'c', 'm']   leaf p\n"
          ]
        }
      ],
      "source": [
        "root3=Node()\n",
        "rootCD.fromFeatureVal.append('root')\n",
        "buildTree(root3,data_train,3)\n",
        "rep(root3,\"\")"
      ]
    },
    {
      "cell_type": "code",
      "execution_count": 146,
      "metadata": {},
      "outputs": [
        {
          "name": "stdout",
          "output_type": "stream",
          "text": [
            "1569  out of  1625  correct\n",
            "Acuuracy:  0.9655384615384616\n"
          ]
        }
      ],
      "source": [
        "pred=[]\n",
        "for i in data_test.index:\n",
        "    t1=data_test.loc[i,:].to_frame().T\n",
        "    pred.append(predict(root3 , t1))\n",
        "correct=0\n",
        "for i,j in zip(pred,data_test['class']):\n",
        "    if isinstance(i,str):\n",
        "        if j in i:\n",
        "            correct+=1\n",
        "print(correct, \" out of \",data_test.shape[0],\" correct\")\n",
        "print(\"Acuuracy: \",correct/data_test.shape[0])"
      ]
    },
    {
      "cell_type": "markdown",
      "metadata": {},
      "source": [
        "## In sklearn decision tree"
      ]
    },
    {
      "cell_type": "code",
      "execution_count": 147,
      "metadata": {},
      "outputs": [
        {
          "data": {
            "text/plain": [
              "0.9577522559474979"
            ]
          },
          "execution_count": 147,
          "metadata": {},
          "output_type": "execute_result"
        }
      ],
      "source": [
        "X=data.iloc[:,1:]\n",
        "y=data.iloc[:,:1]\n",
        "ohe=OneHotEncoder()\n",
        "X_e=ohe.fit_transform(X)\n",
        "le=LabelEncoder()\n",
        "y_e=le.fit_transform(y.values.ravel())\n",
        "X_train,X_test,y_train,y_test=train_test_split(X_e,y_e,test_size=0.3)\n",
        "dtc=DecisionTreeClassifier(criterion='entropy',max_depth=3)\n",
        "dtc.fit(X_train,y_train)\n",
        "y_pred_e=dtc.predict(X_test)\n",
        "np.count_nonzero(y_pred_e==y_test)/len(y_test)"
      ]
    }
  ],
  "metadata": {
    "colab": {
      "provenance": []
    },
    "kernelspec": {
      "display_name": "Python 3.9.7 ('base')",
      "language": "python",
      "name": "python3"
    },
    "language_info": {
      "codemirror_mode": {
        "name": "ipython",
        "version": 3
      },
      "file_extension": ".py",
      "mimetype": "text/x-python",
      "name": "python",
      "nbconvert_exporter": "python",
      "pygments_lexer": "ipython3",
      "version": "3.9.7"
    },
    "orig_nbformat": 4,
    "vscode": {
      "interpreter": {
        "hash": "c0b873c9b5d103abd2609cf223a933618b9c3b2beba21e6685b45ed7f3a37b8e"
      }
    }
  },
  "nbformat": 4,
  "nbformat_minor": 0
}
