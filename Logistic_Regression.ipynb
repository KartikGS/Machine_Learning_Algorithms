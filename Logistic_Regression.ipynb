{
  "cells": [
    {
      "cell_type": "markdown",
      "metadata": {
        "id": "QIYT39Xf742P"
      },
      "source": [
        "##Importing Required Libraries"
      ]
    },
    {
      "cell_type": "code",
      "execution_count": null,
      "metadata": {
        "id": "7yWAQD65UiBS"
      },
      "outputs": [],
      "source": [
        "import pandas as pd\n",
        "import numpy as np\n",
        "import matplotlib.pyplot as plt"
      ]
    },
    {
      "cell_type": "markdown",
      "metadata": {
        "id": "OvkU2xsj8ElL"
      },
      "source": [
        "##Reading the dataset into pandas dataframe"
      ]
    },
    {
      "cell_type": "code",
      "execution_count": null,
      "metadata": {
        "id": "33t2nwwMXhPQ"
      },
      "outputs": [],
      "source": [
        "data= pd.read_csv(\"sample_data/heart_cleveland_upload.csv\")\n",
        "X=data.iloc[:,:-1]\n",
        "y=data.iloc[:,-1:]"
      ]
    },
    {
      "cell_type": "markdown",
      "metadata": {
        "id": "DAk6h3nI8QA-"
      },
      "source": [
        "##Scaling data"
      ]
    },
    {
      "cell_type": "code",
      "execution_count": null,
      "metadata": {
        "id": "8y_yOpQmxuQ4"
      },
      "outputs": [],
      "source": [
        "from sklearn.preprocessing import MinMaxScaler\n",
        "from sklearn.preprocessing import StandardScaler\n",
        "scaler=StandardScaler()\n",
        "#scaler=MinMaxScaler()\n",
        "X=pd.DataFrame(scaler.fit_transform(X))"
      ]
    },
    {
      "cell_type": "markdown",
      "metadata": {
        "id": "t_ign8Ue8WL1"
      },
      "source": [
        "##Spliting data"
      ]
    },
    {
      "cell_type": "code",
      "execution_count": null,
      "metadata": {
        "id": "p3EYqSK2YEsv"
      },
      "outputs": [],
      "source": [
        "from sklearn.model_selection import train_test_split\n",
        "X_train,X_test,y_train,y_test=train_test_split(X,y,test_size=0.2)"
      ]
    },
    {
      "cell_type": "markdown",
      "metadata": {
        "id": "aWEYM0GN8aK2"
      },
      "source": [
        "##Logistic Regression from scratch "
      ]
    },
    {
      "cell_type": "markdown",
      "metadata": {
        "id": "2yRGwTuE8kRL"
      },
      "source": [
        "###Helper function"
      ]
    },
    {
      "cell_type": "code",
      "execution_count": null,
      "metadata": {
        "id": "uMfwR2IwnFci"
      },
      "outputs": [],
      "source": [
        "def accuracy(pred, test):\n",
        "  correct=0\n",
        "  for i in range(len(pred)):\n",
        "    if(pred[i]==test[i]):\n",
        "      correct=correct+1\n",
        "  return float(correct)/len(pred)\n",
        "\n",
        "  \n",
        "def predict(thetha,b,test):\n",
        "  return np.round_(1/(1+np.exp(-np.dot(thetha.T,test.T.to_numpy())-b)))"
      ]
    },
    {
      "cell_type": "markdown",
      "metadata": {
        "id": "ZZ6AdCXv8xqd"
      },
      "source": [
        "###Main function with gradient descent and without regularization"
      ]
    },
    {
      "cell_type": "code",
      "execution_count": null,
      "metadata": {
        "id": "oJEvxP4hbKkf"
      },
      "outputs": [],
      "source": [
        "def logisticRegression(iterations,learning_rate):\n",
        "  m=X_train.shape[0]\n",
        "  n=X_train.shape[1]\n",
        "\n",
        "  x=X_train.T.to_numpy() #nxm\n",
        "  Y=y_train.T.to_numpy() #1xm\n",
        "\n",
        "  thetha=np.zeros((n,1)) #nx1\n",
        "  b=0\n",
        "\n",
        "  cost=[]\n",
        "\n",
        "  for i in range(iterations):\n",
        "    z=np.dot(thetha.T,x)+b #1xm\n",
        "    hz=1/(1+np.exp(-z)) #1xm\n",
        "    cost.append(np.mean( -Y*np.log(hz) - (1-Y)*np.log(1-hz) ))\n",
        "\n",
        "    thetha=thetha-learning_rate*(((1/m)*np.dot(hz-Y , x.T)).T)\n",
        "    b=b-learning_rate*np.mean(hz-Y)\n",
        "\n",
        "  ax=plt.plot(cost)\n",
        "  plt.xlabel(\"Iteration\")\n",
        "  plt.ylabel(\"Cost\")  \n",
        "  plt.show()\n",
        "  return thetha,b"
      ]
    },
    {
      "cell_type": "markdown",
      "metadata": {
        "id": "9BMZktSq9YJ9"
      },
      "source": [
        "###**OUTPUT**"
      ]
    },
    {
      "cell_type": "code",
      "execution_count": null,
      "metadata": {
        "colab": {
          "base_uri": "https://localhost:8080/",
          "height": 279
        },
        "id": "fU4aDJT7iwmE",
        "outputId": "981e4163-be72-4bc2-f65b-d859835f8ee9"
      },
      "outputs": [
        {
          "data": {
            "image/png": "[encoded data removed]",
            "text/plain": [
              "<Figure size 432x288 with 1 Axes>"
            ]
          },
          "metadata": {
            "needs_background": "light"
          },
          "output_type": "display_data"
        }
      ],
      "source": [
        "thetha,b=logisticRegression(10000,0.01)"
      ]
    },
    {
      "cell_type": "code",
      "execution_count": null,
      "metadata": {
        "colab": {
          "base_uri": "https://localhost:8080/"
        },
        "id": "yRVnca3A9dYx",
        "outputId": "e0a666bb-9786-4131-ac3f-5fda00a42b8d"
      },
      "outputs": [
        {
          "data": {
            "text/plain": [
              "(array([[-0.3031624 ],\n",
              "        [ 0.6128296 ],\n",
              "        [ 0.56960224],\n",
              "        [ 0.53433733],\n",
              "        [ 0.30145965],\n",
              "        [-0.32573879],\n",
              "        [ 0.14772997],\n",
              "        [-0.61076002],\n",
              "        [ 0.43445466],\n",
              "        [ 0.31004477],\n",
              "        [ 0.24061947],\n",
              "        [ 1.34287531],\n",
              "        [ 0.68505308]]), -0.07102955259408335)"
            ]
          },
          "execution_count": 379,
          "metadata": {},
          "output_type": "execute_result"
        }
      ],
      "source": [
        "thetha, b"
      ]
    },
    {
      "cell_type": "code",
      "execution_count": null,
      "metadata": {
        "colab": {
          "base_uri": "https://localhost:8080/"
        },
        "id": "MkoquLWEoDju",
        "outputId": "bdbf45c7-1306-4367-c153-d2cf93639c66"
      },
      "outputs": [
        {
          "data": {
            "text/plain": [
              "0.8666666666666667"
            ]
          },
          "execution_count": 380,
          "metadata": {},
          "output_type": "execute_result"
        }
      ],
      "source": [
        "y_pred=predict(thetha,b,X_test)\n",
        "accuracy(y_pred.tolist()[0],list(y_test.values.ravel()))"
      ]
    },
    {
      "cell_type": "code",
      "execution_count": null,
      "metadata": {
        "colab": {
          "base_uri": "https://localhost:8080/",
          "height": 279
        },
        "id": "aEfI_LsaLcl2",
        "outputId": "50eb3d39-c636-4676-829b-39d95649d129"
      },
      "outputs": [
        {
          "data": {
            "image/png": "[encoded data removed]",
            "text/plain": [
              "<Figure size 432x288 with 2 Axes>"
            ]
          },
          "metadata": {
            "needs_background": "light"
          },
          "output_type": "display_data"
        }
      ],
      "source": [
        "from sklearn.metrics import ConfusionMatrixDisplay\n",
        "ConfusionMatrixDisplay.from_predictions(list(y_test.values.ravel()),y_pred.tolist()[0])\n",
        "plt.show()"
      ]
    },
    {
      "cell_type": "markdown",
      "metadata": {
        "id": "6_TDEMNdBi8k"
      },
      "source": [
        "###With L2 Regularization"
      ]
    },
    {
      "cell_type": "code",
      "execution_count": null,
      "metadata": {
        "id": "pIZF3TKug8Ew"
      },
      "outputs": [],
      "source": [
        "def logisticRegressionL2(iterations,learning_rate,lamda):\n",
        "  m=X_train.shape[0]\n",
        "  n=X_train.shape[1]\n",
        "\n",
        "  x=X_train.T.to_numpy() #nxm\n",
        "  Y=y_train.T.to_numpy() #1xm\n",
        "\n",
        "  thetha=np.zeros((n,1)) #nx1\n",
        "  b=0\n",
        "\n",
        "  cost=[]\n",
        "\n",
        "  for i in range(iterations):\n",
        "    z=np.dot(thetha.T,x)+b #1xm\n",
        "    hz=1/(1+np.exp(-z)) #1xm\n",
        "    cost.append(np.mean( -Y*np.log(hz) - (1-Y)*np.log(1-hz) ) + (lamda/(2*m))*np.sum(thetha**2))\n",
        "\n",
        "    thetha=thetha-learning_rate*(((1/m)*np.dot(hz-Y , x.T)).T + (lamda/m)*thetha)\n",
        "    b=b-learning_rate*(np.mean(hz-Y)) #+ (lamda/m)*b)\n",
        "\n",
        "  ax=plt.plot(cost)\n",
        "  plt.xlabel(\"Iteration\")\n",
        "  plt.ylabel(\"Cost\")  \n",
        "  plt.show()\n",
        "  return thetha,b"
      ]
    },
    {
      "cell_type": "markdown",
      "metadata": {
        "id": "nwLmQ23sCbEs"
      },
      "source": [
        "###**OUTPUT**"
      ]
    },
    {
      "cell_type": "markdown",
      "metadata": {
        "id": "gEynedLICy6N"
      },
      "source": [
        "###Setting Regularization Parameter to 0"
      ]
    },
    {
      "cell_type": "code",
      "execution_count": null,
      "metadata": {
        "colab": {
          "base_uri": "https://localhost:8080/",
          "height": 279
        },
        "id": "o3hePzovlJyd",
        "outputId": "0aa409f9-16b8-4b58-cd78-78334328ba44"
      },
      "outputs": [
        {
          "data": {
            "image/png": "[encoded data removed]",
            "text/plain": [
              "<Figure size 432x288 with 1 Axes>"
            ]
          },
          "metadata": {
            "needs_background": "light"
          },
          "output_type": "display_data"
        }
      ],
      "source": [
        "thetha,b=logisticRegressionL2(10000,0.01,0)"
      ]
    },
    {
      "cell_type": "code",
      "execution_count": null,
      "metadata": {
        "colab": {
          "base_uri": "https://localhost:8080/"
        },
        "id": "wW0Gyac6Crdv",
        "outputId": "d7611d11-4b50-4a7e-e1cc-42e098f3f5b3"
      },
      "outputs": [
        {
          "data": {
            "text/plain": [
              "(array([[-0.3031624 ],\n",
              "        [ 0.6128296 ],\n",
              "        [ 0.56960224],\n",
              "        [ 0.53433733],\n",
              "        [ 0.30145965],\n",
              "        [-0.32573879],\n",
              "        [ 0.14772997],\n",
              "        [-0.61076002],\n",
              "        [ 0.43445466],\n",
              "        [ 0.31004477],\n",
              "        [ 0.24061947],\n",
              "        [ 1.34287531],\n",
              "        [ 0.68505308]]), -0.07102955259408335)"
            ]
          },
          "execution_count": 384,
          "metadata": {},
          "output_type": "execute_result"
        }
      ],
      "source": [
        "thetha,b"
      ]
    },
    {
      "cell_type": "code",
      "execution_count": null,
      "metadata": {
        "colab": {
          "base_uri": "https://localhost:8080/"
        },
        "id": "2QBJVveiDAxy",
        "outputId": "b391d051-64b0-4914-80f0-ac140d15ad11"
      },
      "outputs": [
        {
          "data": {
            "text/plain": [
              "0.8666666666666667"
            ]
          },
          "execution_count": 385,
          "metadata": {},
          "output_type": "execute_result"
        }
      ],
      "source": [
        "y_pred=predict(thetha,b,X_test)\n",
        "accuracy(y_pred.tolist()[0],list(y_test.values.ravel()))"
      ]
    },
    {
      "cell_type": "code",
      "execution_count": null,
      "metadata": {
        "colab": {
          "base_uri": "https://localhost:8080/",
          "height": 279
        },
        "id": "w-4O2OY-LfP8",
        "outputId": "2a47f629-0a02-40a5-90b1-e6883f265e33"
      },
      "outputs": [
        {
          "data": {
            "image/png": "[encoded data removed]",
            "text/plain": [
              "<Figure size 432x288 with 2 Axes>"
            ]
          },
          "metadata": {
            "needs_background": "light"
          },
          "output_type": "display_data"
        }
      ],
      "source": [
        "from sklearn.metrics import ConfusionMatrixDisplay\n",
        "ConfusionMatrixDisplay.from_predictions(list(y_test.values.ravel()),y_pred.tolist()[0])\n",
        "plt.show()"
      ]
    },
    {
      "cell_type": "markdown",
      "metadata": {
        "id": "o8gqfMPgDcdE"
      },
      "source": [
        "###Setting Regularization Parameter to 10"
      ]
    },
    {
      "cell_type": "code",
      "execution_count": null,
      "metadata": {
        "colab": {
          "base_uri": "https://localhost:8080/",
          "height": 279
        },
        "id": "65zOSievlZEB",
        "outputId": "0f49be0f-210f-4070-eb9f-7563031e0f8f"
      },
      "outputs": [
        {
          "data": {
            "image/png": "[encoded data removed]",
            "text/plain": [
              "<Figure size 432x288 with 1 Axes>"
            ]
          },
          "metadata": {
            "needs_background": "light"
          },
          "output_type": "display_data"
        }
      ],
      "source": [
        "thetha,b=logisticRegressionL2(10000,0.01,2)"
      ]
    },
    {
      "cell_type": "code",
      "execution_count": null,
      "metadata": {
        "colab": {
          "base_uri": "https://localhost:8080/"
        },
        "id": "N3QJTrNYDsjo",
        "outputId": "5829ffe1-3a64-4385-c6c1-fbb3fb5f8d4e"
      },
      "outputs": [
        {
          "data": {
            "text/plain": [
              "(array([[-0.20218693],\n",
              "        [ 0.53414704],\n",
              "        [ 0.52368108],\n",
              "        [ 0.4395937 ],\n",
              "        [ 0.24200634],\n",
              "        [-0.25780675],\n",
              "        [ 0.14538743],\n",
              "        [-0.5274112 ],\n",
              "        [ 0.40043635],\n",
              "        [ 0.3172838 ],\n",
              "        [ 0.20274059],\n",
              "        [ 1.12644807],\n",
              "        [ 0.64695005]]), -0.102491698665096)"
            ]
          },
          "execution_count": 401,
          "metadata": {},
          "output_type": "execute_result"
        }
      ],
      "source": [
        "thetha,b"
      ]
    },
    {
      "cell_type": "code",
      "execution_count": null,
      "metadata": {
        "colab": {
          "base_uri": "https://localhost:8080/"
        },
        "id": "iNvLBKubrnWr",
        "outputId": "4576e0c8-460c-4ade-f32b-959382a57ac8"
      },
      "outputs": [
        {
          "data": {
            "text/plain": [
              "0.9"
            ]
          },
          "execution_count": 402,
          "metadata": {},
          "output_type": "execute_result"
        }
      ],
      "source": [
        "y_pred=predict(thetha,b,X_test)\n",
        "accuracy(y_pred.tolist()[0],list(y_test.values.ravel()))"
      ]
    },
    {
      "cell_type": "code",
      "execution_count": null,
      "metadata": {
        "colab": {
          "base_uri": "https://localhost:8080/",
          "height": 279
        },
        "id": "K82S6qF-K-Xb",
        "outputId": "2de91210-823b-49d6-fc87-fe75c33cf53f"
      },
      "outputs": [
        {
          "data": {
            "image/png": "[encoded data removed]",
            "text/plain": [
              "<Figure size 432x288 with 2 Axes>"
            ]
          },
          "metadata": {
            "needs_background": "light"
          },
          "output_type": "display_data"
        }
      ],
      "source": [
        "from sklearn.metrics import ConfusionMatrixDisplay\n",
        "ConfusionMatrixDisplay.from_predictions(list(y_test.values.ravel()),y_pred.tolist()[0])\n",
        "plt.show()"
      ]
    },
    {
      "cell_type": "markdown",
      "metadata": {
        "id": "tZOfWOoirLSj"
      },
      "source": [
        "#Inbuild Logistic Regression"
      ]
    },
    {
      "cell_type": "markdown",
      "metadata": {
        "id": "coukY122VhmB"
      },
      "source": [
        "###Using LogisticRegression module"
      ]
    },
    {
      "cell_type": "markdown",
      "metadata": {
        "id": "X2XJ9NqvV9QI"
      },
      "source": [
        "###Without Regularization"
      ]
    },
    {
      "cell_type": "code",
      "execution_count": null,
      "metadata": {
        "colab": {
          "base_uri": "https://localhost:8080/"
        },
        "id": "4U0cca8onIDi",
        "outputId": "fe556044-a952-4c34-f50e-97113ffa7ba9"
      },
      "outputs": [
        {
          "name": "stdout",
          "output_type": "stream",
          "text": [
            "Accuracy:  0.8666666666666667\n"
          ]
        }
      ],
      "source": [
        "from sklearn.linear_model import LogisticRegression\n",
        "lr=LogisticRegression(penalty=None,max_iter=10000)\n",
        "lr.fit(X_train,y_train.values.ravel())\n",
        "y_pred=lr.predict(X_test)\n",
        "print(\"Accuracy: \",accuracy_score(y_test, y_pred))\n",
        "\n"
      ]
    },
    {
      "cell_type": "code",
      "execution_count": null,
      "metadata": {
        "colab": {
          "base_uri": "https://localhost:8080/",
          "height": 279
        },
        "id": "S0vShf2UWvhb",
        "outputId": "8c57dd69-4d94-426c-a99a-1d4a0a658ace"
      },
      "outputs": [
        {
          "data": {
            "image/png": "[encoded data removed]",
            "text/plain": [
              "<Figure size 432x288 with 2 Axes>"
            ]
          },
          "metadata": {
            "needs_background": "light"
          },
          "output_type": "display_data"
        }
      ],
      "source": [
        "ConfusionMatrixDisplay.from_predictions(y_test,list(y_pred))\n",
        "plt.show()"
      ]
    },
    {
      "cell_type": "markdown",
      "metadata": {
        "id": "BH47XopgWFaU"
      },
      "source": [
        "###With L2 Regularization"
      ]
    },
    {
      "cell_type": "code",
      "execution_count": null,
      "metadata": {
        "colab": {
          "base_uri": "https://localhost:8080/"
        },
        "id": "LZoa4uOzPqvO",
        "outputId": "91a52d63-5eda-41ad-b21d-f76221d58b33"
      },
      "outputs": [
        {
          "name": "stdout",
          "output_type": "stream",
          "text": [
            "Accuracy:  0.8666666666666667\n"
          ]
        }
      ],
      "source": [
        "lr=LogisticRegression(penalty='l2',max_iter=10000)\n",
        "lr.fit(X_train,y_train.values.ravel())\n",
        "y_pred=lr.predict(X_test)\n",
        "print(\"Accuracy: \",accuracy_score(y_test, y_pred))"
      ]
    },
    {
      "cell_type": "code",
      "execution_count": null,
      "metadata": {
        "colab": {
          "base_uri": "https://localhost:8080/",
          "height": 279
        },
        "id": "ZqFYIfyFWzPB",
        "outputId": "db38f4c9-d480-4e66-a1ba-575a77850cbc"
      },
      "outputs": [
        {
          "data": {
            "image/png": "[encoded data removed]",
            "text/plain": [
              "<Figure size 432x288 with 2 Axes>"
            ]
          },
          "metadata": {
            "needs_background": "light"
          },
          "output_type": "display_data"
        }
      ],
      "source": [
        "ConfusionMatrixDisplay.from_predictions(y_test,list(y_pred))\n",
        "plt.show()"
      ]
    },
    {
      "cell_type": "markdown",
      "metadata": {
        "id": "ChVre615QGdU"
      },
      "source": [
        "###Gradient Decent with log loss"
      ]
    },
    {
      "cell_type": "code",
      "execution_count": null,
      "metadata": {
        "colab": {
          "base_uri": "https://localhost:8080/"
        },
        "id": "4urdTpYOzOOz",
        "outputId": "bec0d70c-5503-439a-9dc0-f7c5b15777e4"
      },
      "outputs": [
        {
          "name": "stdout",
          "output_type": "stream",
          "text": [
            "Accuracy:  0.8666666666666667\n"
          ]
        }
      ],
      "source": [
        "from sklearn.linear_model import SGDClassifier\n",
        "from sklearn.metrics import accuracy_score\n",
        "\n",
        "sgd=SGDClassifier(loss='log_loss', penalty=None, max_iter=10000,learning_rate='constant',eta0=0.01,shuffle=False,tol=None)\n",
        "sgd.fit(X_train,y_train.values.ravel())\n",
        "y_pred=sgd.predict(X_test)\n",
        "print(\"Accuracy: \",accuracy_score(y_test, y_pred))"
      ]
    },
    {
      "cell_type": "code",
      "execution_count": null,
      "metadata": {
        "colab": {
          "base_uri": "https://localhost:8080/"
        },
        "id": "ybWvXJHI98Bx",
        "outputId": "fd0bd309-5147-426f-b04c-2d80b947fd4c"
      },
      "outputs": [
        {
          "data": {
            "text/plain": [
              "array([[-0.31820921,  0.63034923,  0.57602568,  0.56694349,  0.29924738,\n",
              "        -0.32015765,  0.14909049, -0.64747129,  0.43971823,  0.30961649,\n",
              "         0.24561082,  1.37266849,  0.66881751]])"
            ]
          },
          "execution_count": 404,
          "metadata": {},
          "output_type": "execute_result"
        }
      ],
      "source": [
        "sgd.coef_"
      ]
    },
    {
      "cell_type": "code",
      "execution_count": null,
      "metadata": {
        "colab": {
          "base_uri": "https://localhost:8080/"
        },
        "id": "-OYW1MSZ-coa",
        "outputId": "15c69e9d-fe66-459e-a4b2-863a571bbc7f"
      },
      "outputs": [
        {
          "data": {
            "text/plain": [
              "array([-0.05590031])"
            ]
          },
          "execution_count": 405,
          "metadata": {},
          "output_type": "execute_result"
        }
      ],
      "source": [
        "sgd.intercept_"
      ]
    },
    {
      "cell_type": "code",
      "execution_count": null,
      "metadata": {
        "colab": {
          "base_uri": "https://localhost:8080/",
          "height": 279
        },
        "id": "YfNWgCo5VImy",
        "outputId": "6f5581d1-6dae-4fb4-c4da-2a61f212e837"
      },
      "outputs": [
        {
          "data": {
            "image/png": "[encoded data removed]",
            "text/plain": [
              "<Figure size 432x288 with 2 Axes>"
            ]
          },
          "metadata": {
            "needs_background": "light"
          },
          "output_type": "display_data"
        }
      ],
      "source": [
        "ConfusionMatrixDisplay.from_predictions(y_test,list(y_pred))\n",
        "plt.show()"
      ]
    },
    {
      "cell_type": "markdown",
      "metadata": {
        "id": "XDPgNshY48C5"
      },
      "source": [
        "###With L2 Regularization"
      ]
    },
    {
      "cell_type": "code",
      "execution_count": null,
      "metadata": {
        "colab": {
          "base_uri": "https://localhost:8080/"
        },
        "id": "3JR4UZA82WpE",
        "outputId": "1085075d-1e65-4c86-89c7-c6038bad1af4"
      },
      "outputs": [
        {
          "name": "stdout",
          "output_type": "stream",
          "text": [
            "Accuracy:  0.9\n"
          ]
        }
      ],
      "source": [
        "sgdl2=SGDClassifier(loss='log_loss', penalty='l2',alpha= 0.01,max_iter=10000,learning_rate='constant',eta0=0.01,shuffle=False,tol=None)\n",
        "sgdl2.fit(X_train,y_train.values.ravel())\n",
        "y_pred=sgdl2.predict(X_test)\n",
        "print(\"Accuracy: \",accuracy_score(y_test, y_pred))"
      ]
    },
    {
      "cell_type": "code",
      "execution_count": null,
      "metadata": {
        "colab": {
          "base_uri": "https://localhost:8080/"
        },
        "id": "kdEuGvQa-k5X",
        "outputId": "8916ccd5-fd6c-4543-c706-8f19a0bc76c2"
      },
      "outputs": [
        {
          "data": {
            "text/plain": [
              "array([[-0.22397864,  0.68702786,  0.59077457,  0.69125654,  0.15537364,\n",
              "        -0.20760998,  0.22612059, -0.79402898,  0.41955612,  0.46844915,\n",
              "         0.22023615,  1.36059627,  0.51417755]])"
            ]
          },
          "execution_count": 397,
          "metadata": {},
          "output_type": "execute_result"
        }
      ],
      "source": [
        "sgdl2.coef_"
      ]
    },
    {
      "cell_type": "code",
      "execution_count": null,
      "metadata": {
        "colab": {
          "base_uri": "https://localhost:8080/"
        },
        "id": "V4kJy53h-lKC",
        "outputId": "7d53712d-3834-44df-873c-4f8117c462e5"
      },
      "outputs": [
        {
          "data": {
            "text/plain": [
              "array([-0.00517441])"
            ]
          },
          "execution_count": 398,
          "metadata": {},
          "output_type": "execute_result"
        }
      ],
      "source": [
        "sgdl2.intercept_"
      ]
    },
    {
      "cell_type": "code",
      "execution_count": null,
      "metadata": {
        "colab": {
          "base_uri": "https://localhost:8080/",
          "height": 279
        },
        "id": "KvfpLLLdQgOS",
        "outputId": "52f5d1ca-eb51-4b37-f242-9ac4a3115e80"
      },
      "outputs": [
        {
          "data": {
            "image/png": "[encoded data removed]",
            "text/plain": [
              "<Figure size 432x288 with 2 Axes>"
            ]
          },
          "metadata": {
            "needs_background": "light"
          },
          "output_type": "display_data"
        }
      ],
      "source": [
        "ConfusionMatrixDisplay.from_predictions(y_test,list(y_pred))\n",
        "plt.show()"
      ]
    }
  ],
  "metadata": {
    "colab": {
      "provenance": []
    },
    "kernelspec": {
      "display_name": "Python 3.9.7 ('base')",
      "language": "python",
      "name": "python3"
    },
    "language_info": {
      "name": "python",
      "version": "3.9.7"
    },
    "vscode": {
      "interpreter": {
        "hash": "c0b873c9b5d103abd2609cf223a933618b9c3b2beba21e6685b45ed7f3a37b8e"
      }
    }
  },
  "nbformat": 4,
  "nbformat_minor": 0
}
