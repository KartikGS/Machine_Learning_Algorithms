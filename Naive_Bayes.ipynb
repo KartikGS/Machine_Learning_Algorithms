{
  "cells": [
    {
      "cell_type": "markdown",
      "metadata": {
        "id": "3cXfqDrpXJcn"
      },
      "source": [
        "#Naive Bayes"
      ]
    },
    {
      "cell_type": "markdown",
      "metadata": {
        "id": "RiyHJUCAYiKo"
      },
      "source": [
        "##Importing required libraries"
      ]
    },
    {
      "cell_type": "code",
      "execution_count": null,
      "metadata": {
        "id": "eINZyD-zoS0o"
      },
      "outputs": [],
      "source": [
        "import pandas as pd\n",
        "import numpy as np\n",
        "from sklearn.model_selection import train_test_split\n",
        "from sklearn.metrics import ConfusionMatrixDisplay\n",
        "import matplotlib.pyplot as plt"
      ]
    },
    {
      "cell_type": "markdown",
      "metadata": {
        "id": "1W8Df56dYmMn"
      },
      "source": [
        "##Importing data"
      ]
    },
    {
      "cell_type": "code",
      "execution_count": null,
      "metadata": {
        "id": "xCVaIdggubOT"
      },
      "outputs": [],
      "source": [
        "data=pd.read_csv('sample_data/1.csv')"
      ]
    },
    {
      "cell_type": "markdown",
      "metadata": {
        "id": "ioPXpeUKYpXQ"
      },
      "source": [
        "##Naive Bayes from scratch"
      ]
    },
    {
      "cell_type": "markdown",
      "metadata": {
        "id": "1Oe0JlbcYuni"
      },
      "source": [
        "###function to calculate accuracy"
      ]
    },
    {
      "cell_type": "code",
      "execution_count": null,
      "metadata": {
        "id": "TQFT7UCpAI7P"
      },
      "outputs": [],
      "source": [
        "def accuracy(pred, test):\n",
        "  correct=0\n",
        "  for i in range(len(pred)):\n",
        "    if(pred[i]==test[i]):\n",
        "      correct=correct+1\n",
        "  return float(correct)/len(pred)"
      ]
    },
    {
      "cell_type": "markdown",
      "metadata": {
        "id": "ZvkLfFKrY1YG"
      },
      "source": [
        "###Implementation of naive bayes"
      ]
    },
    {
      "cell_type": "code",
      "execution_count": null,
      "metadata": {
        "id": "aGxrygHiu4vM"
      },
      "outputs": [],
      "source": [
        "def predict(data,size):\n",
        "\n",
        "  #spliting data according to function parameter\n",
        "  data_train,data_test=train_test_split(data,test_size=size)\n",
        "\n",
        "  #store prediction\n",
        "  pred=[]\n",
        "\n",
        "  #for every test instance\n",
        "  for i in data_test.index:\n",
        "    instance=data.loc[i,:].to_frame().T\n",
        "    #store probability of each class\n",
        "    prob={}\n",
        "    #for every class\n",
        "    for j in data['class'].unique():\n",
        "      #P(Y)\n",
        "      prob[j]=float(data_train['class'].value_counts()[j])/data_train['class'].count()\n",
        "      #for every column\n",
        "      for k in instance.columns:\n",
        "        #P(X|Y)\n",
        "        if(k!='class' and instance.loc[instance.index[0],k]!='?'):# and instance.loc[0,k]!='?'\n",
        "          prob[j]=prob[j]*(data_train[(data_train[\"class\"]==j) & (data_train[k]==instance.loc[instance.index[0],k])].shape[0]/data_train['class'].value_counts()[j])\n",
        "    #Findind max probability among all classes\n",
        "    max,assign=0,0\n",
        "    for key in prob:\n",
        "      if(prob[key]>=max):\n",
        "        max=prob[key]\n",
        "        assign=key\n",
        "    pred.append(assign)\n",
        "\n",
        "  #finding accuracy\n",
        "  a=accuracy(pred,list(data_test['class']))\n",
        "\n",
        "  #Plotting confusion matrix\n",
        "  ConfusionMatrixDisplay.from_predictions(list(data_test['class']),pred)\n",
        "  plt.show()\n",
        "  print(\"Accuracy: \",a)\n"
      ]
    },
    {
      "cell_type": "markdown",
      "metadata": {
        "id": "Ub5C-XyKqSWC"
      },
      "source": [
        "###Output for different test-size"
      ]
    },
    {
      "cell_type": "code",
      "execution_count": null,
      "metadata": {
        "colab": {
          "base_uri": "https://localhost:8080/",
          "height": 979
        },
        "id": "TbzTKMo9BmTR",
        "outputId": "d10872d1-464c-4e05-eae8-f04d49459186"
      },
      "outputs": [
        {
          "name": "stdout",
          "output_type": "stream",
          "text": [
            "OUTPUT:\n",
            "\n",
            "For test size  0.3\n"
          ]
        },
        {
          "data": {
            "image/png": "[encoded data removed]",
            "text/plain": [
              "<Figure size 432x288 with 2 Axes>"
            ]
          },
          "metadata": {
            "needs_background": "light"
          },
          "output_type": "display_data"
        },
        {
          "name": "stdout",
          "output_type": "stream",
          "text": [
            "Accuracy:  0.9954881050041017\n",
            "\n",
            "For test size  0.2\n"
          ]
        },
        {
          "data": {
            "image/png": "[encoded data removed]",
            "text/plain": [
              "<Figure size 432x288 with 2 Axes>"
            ]
          },
          "metadata": {
            "needs_background": "light"
          },
          "output_type": "display_data"
        },
        {
          "name": "stdout",
          "output_type": "stream",
          "text": [
            "Accuracy:  0.9963076923076923\n",
            "\n",
            "For test size  0.1\n"
          ]
        },
        {
          "data": {
            "image/png": "[encoded data removed]",
            "text/plain": [
              "<Figure size 432x288 with 2 Axes>"
            ]
          },
          "metadata": {
            "needs_background": "light"
          },
          "output_type": "display_data"
        },
        {
          "name": "stdout",
          "output_type": "stream",
          "text": [
            "Accuracy:  0.997539975399754\n"
          ]
        }
      ],
      "source": [
        "print(\"OUTPUT:\")\n",
        "test_size=[0.3,0.2,0.1]\n",
        "for i in test_size:\n",
        "  print(\"\\nFor test size \",i)\n",
        "  predict(data,i)"
      ]
    },
    {
      "cell_type": "markdown",
      "metadata": {
        "id": "kL_XHMEDgZE4"
      },
      "source": [
        "##Inbuilt Naive bayes"
      ]
    },
    {
      "cell_type": "markdown",
      "metadata": {
        "id": "1jqAC24jgjM0"
      },
      "source": [
        "###Importing inbuilt library"
      ]
    },
    {
      "cell_type": "code",
      "execution_count": null,
      "metadata": {
        "id": "b3NDaYQMgcl9"
      },
      "outputs": [],
      "source": [
        "from sklearn.naive_bayes import CategoricalNB\n",
        "from sklearn.metrics import accuracy_score\n",
        "from sklearn import preprocessing\n",
        "import warnings\n",
        "warnings.simplefilter('ignore')"
      ]
    },
    {
      "cell_type": "markdown",
      "metadata": {
        "id": "DmRQEbQAkZRj"
      },
      "source": [
        "###label encoding dataset"
      ]
    },
    {
      "cell_type": "code",
      "execution_count": null,
      "metadata": {
        "id": "G5Q7HIMJkcB2"
      },
      "outputs": [],
      "source": [
        "# label_encoder object knows how to understand word labels.\n",
        "label_encoder = preprocessing.LabelEncoder()\n",
        "# Encode labels in column i.\n",
        "for i in data.columns:\n",
        "  data[i] = label_encoder.fit_transform(data[i])"
      ]
    },
    {
      "cell_type": "markdown",
      "metadata": {
        "id": "fM5a7gPEhApX"
      },
      "source": [
        "###Spliting features and class label"
      ]
    },
    {
      "cell_type": "code",
      "execution_count": null,
      "metadata": {
        "id": "_VQUgcLFgms8"
      },
      "outputs": [],
      "source": [
        "X,y=data.iloc[:,1:],data.iloc[:,:1]"
      ]
    },
    {
      "cell_type": "markdown",
      "metadata": {
        "id": "_mAZgeWohNLP"
      },
      "source": [
        "###Output for different test-size"
      ]
    },
    {
      "cell_type": "code",
      "execution_count": null,
      "metadata": {
        "colab": {
          "base_uri": "https://localhost:8080/",
          "height": 977
        },
        "id": "_nUC_XR0hMLT",
        "outputId": "b134e1dd-9f2c-4a74-e81a-812256833a0c"
      },
      "outputs": [
        {
          "name": "stdout",
          "output_type": "stream",
          "text": [
            "OUTPUT:\n",
            "\n",
            "For test size  0.3\n"
          ]
        },
        {
          "data": {
            "image/png": "[encoded data removed]",
            "text/plain": [
              "<Figure size 432x288 with 2 Axes>"
            ]
          },
          "metadata": {
            "needs_background": "light"
          },
          "output_type": "display_data"
        },
        {
          "name": "stdout",
          "output_type": "stream",
          "text": [
            "Accuracy:  0.9983593109105825\n",
            "\n",
            "For test size  0.2\n"
          ]
        },
        {
          "data": {
            "image/png": "[encoded data removed]",
            "text/plain": [
              "<Figure size 432x288 with 2 Axes>"
            ]
          },
          "metadata": {
            "needs_background": "light"
          },
          "output_type": "display_data"
        },
        {
          "name": "stdout",
          "output_type": "stream",
          "text": [
            "Accuracy:  0.9993846153846154\n",
            "\n",
            "For test size  0.1\n"
          ]
        },
        {
          "data": {
            "image/png": "[encoded data removed]",
            "text/plain": [
              "<Figure size 432x288 with 2 Axes>"
            ]
          },
          "metadata": {
            "needs_background": "light"
          },
          "output_type": "display_data"
        },
        {
          "name": "stdout",
          "output_type": "stream",
          "text": [
            "Accuracy:  0.995079950799508\n"
          ]
        }
      ],
      "source": [
        "print(\"OUTPUT:\")\n",
        "test_size=[0.3,0.2,0.1]\n",
        "for i in test_size:\n",
        "  print(\"\\nFor test size \",i)\n",
        "\n",
        "  #Spliting to train and test set\n",
        "  X_train,X_test,y_train,y_test=train_test_split(X,y,test_size=i)\n",
        "\n",
        "  #declaring fitting and making prediction using naive bayes\n",
        "  clf = CategoricalNB(alpha=0,force_alpha=True)\n",
        "  clf.fit(X_train,y_train.values.ravel())\n",
        "  y_pred=clf.predict(X_test)\n",
        "\n",
        "  #dsiplaying confusion matrix\n",
        "  ConfusionMatrixDisplay.from_predictions(y_test,y_pred,display_labels=['e','p'])\n",
        "  plt.show()\n",
        "\n",
        "  #printing accuracy\n",
        "  print(\"Accuracy: \",accuracy_score(y_test, y_pred))"
      ]
    }
  ],
  "metadata": {
    "colab": {
      "provenance": []
    },
    "kernelspec": {
      "display_name": "Python 3.9.7 ('base')",
      "language": "python",
      "name": "python3"
    },
    "language_info": {
      "name": "python",
      "version": "3.9.7"
    },
    "vscode": {
      "interpreter": {
        "hash": "c0b873c9b5d103abd2609cf223a933618b9c3b2beba21e6685b45ed7f3a37b8e"
      }
    }
  },
  "nbformat": 4,
  "nbformat_minor": 0
}
