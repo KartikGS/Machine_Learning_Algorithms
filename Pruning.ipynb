{
  "cells": [
    {
      "cell_type": "code",
      "execution_count": null,
      "metadata": {
        "id": "zOpJId5yP2T7"
      },
      "outputs": [],
      "source": [
        "import pandas as pd\n",
        "import numpy as np\n",
        "import math "
      ]
    },
    {
      "cell_type": "code",
      "execution_count": null,
      "metadata": {
        "id": "x0NEPO4JQetS"
      },
      "outputs": [],
      "source": [
        "data=pd.read_csv('sample_data/1.csv')\n",
        "data_train=data[:int(data.shape[0]*(9/10))]\n",
        "data_test=data[int(data.shape[0]*(9/10)):]"
      ]
    },
    {
      "cell_type": "markdown",
      "metadata": {
        "id": "ByaKDyUKnlUJ"
      },
      "source": [
        "#Tree from scratch"
      ]
    },
    {
      "cell_type": "code",
      "execution_count": null,
      "metadata": {
        "id": "WBo5Oy1_QjRy"
      },
      "outputs": [],
      "source": [
        "def getEntropy(d):\n",
        "  ent=0\n",
        "  for i in d['class'].value_counts():\n",
        "    ent-=i*np.log2(i/d.shape[0])/d.shape[0]\n",
        "  return ent"
      ]
    },
    {
      "cell_type": "code",
      "execution_count": null,
      "metadata": {
        "id": "DqrinSWWGsuM"
      },
      "outputs": [],
      "source": [
        "def gain(d,f):\n",
        "  rel_cap_shape_gain=getEntropy(d)\n",
        "  vc=d[f].value_counts();\n",
        "  for i in d[f].value_counts().index:\n",
        "    rel_cap_shape_gain-=vc[i]*getEntropy(d[d[f]==i])/d.shape[0]\n",
        "  return rel_cap_shape_gain"
      ]
    },
    {
      "cell_type": "code",
      "execution_count": null,
      "metadata": {
        "id": "N7VPdhcfQ7QL"
      },
      "outputs": [],
      "source": [
        "class Node:\n",
        "  def __init__(self):\n",
        "    self.fromFeatureVal=[]\n",
        "    self.name=None\n",
        "    self.child=[]"
      ]
    },
    {
      "cell_type": "code",
      "execution_count": null,
      "metadata": {
        "id": "creAND4dQ-95"
      },
      "outputs": [],
      "source": [
        "def buildTree(root,d,depth):\n",
        "    if d['class'].value_counts().shape[0]==1:\n",
        "        root.name='leaf'+' '+list(d['class'].value_counts().index)[0]\n",
        "        return\n",
        "    if(depth==0):\n",
        "        ec= d['class'].value_counts()[0]\n",
        "        pc= d['class'].value_counts()[1]\n",
        "        if(ec>=pc):\n",
        "            root.name='leaf e'\n",
        "        else:\n",
        "            root.name='leaf p'\n",
        "        return\n",
        "    maxGain=-100000000\n",
        "    for i in d.columns:\n",
        "        if(i!='class' and gain(d,i)>maxGain):\n",
        "            maxGain=gain(d,i)\n",
        "            feature=i\n",
        "    root.name=feature\n",
        "    for i in d[feature].value_counts().index:\n",
        "        r=Node()\n",
        "        r.fromFeatureVal.append(i)\n",
        "        buildTree(r,d[d[feature]==i].drop(columns=[feature]),depth-1)\n",
        "        root.child.append(r)\n",
        "    #Combining leave nodes\n",
        "    e=Node()\n",
        "    e.name='leaf e'\n",
        "    p=Node()\n",
        "    p.name='leaf p'\n",
        "    iter=root.child.copy()\n",
        "    for i in iter:\n",
        "        if i.name=='leaf e':\n",
        "            e.fromFeatureVal.append(i.fromFeatureVal[0])\n",
        "            root.child.remove(i)\n",
        "        if i.name=='leaf p':\n",
        "            p.fromFeatureVal.append(i.fromFeatureVal[0])\n",
        "            root.child.remove(i)\n",
        "    if(len(e.fromFeatureVal)!=0): \n",
        "        root.child.append(e)\n",
        "    if(len(p.fromFeatureVal)!=0): \n",
        "        root.child.append(p)\n",
        "    return\n"
      ]
    },
    {
      "cell_type": "code",
      "execution_count": null,
      "metadata": {
        "id": "36OpiXOIRG1c"
      },
      "outputs": [],
      "source": [
        "def rep(root,s):\n",
        "  print(s,root.fromFeatureVal,\" \",root.name)\n",
        "  for i in root.child:\n",
        "    rep(i,s+\"     \")"
      ]
    },
    {
      "cell_type": "code",
      "execution_count": null,
      "metadata": {
        "id": "pOCYbl0ZRO4c"
      },
      "outputs": [],
      "source": [
        "def predict(root,t1):\n",
        "    if 'leaf' in root.name:\n",
        "        return root.name\n",
        "    for i in root.child:\n",
        "        if list(t1[root.name])[0] in i.fromFeatureVal:\n",
        "            return predict(i,t1)"
      ]
    },
    {
      "cell_type": "code",
      "execution_count": null,
      "metadata": {
        "colab": {
          "base_uri": "https://localhost:8080/"
        },
        "id": "JZIP0VX7_62Y",
        "outputId": "aa545e33-ccab-49f4-bce8-4ccf70a9383e"
      },
      "outputs": [
        {
          "name": "stdout",
          "output_type": "stream",
          "text": [
            " ['root']   odor\n",
            "      ['n']   spore-print-color\n",
            "           ['w']   habitat\n",
            "                ['l']   cap-color\n",
            "                     ['c', 'n']   leaf e\n",
            "                     ['w', 'y']   leaf p\n",
            "                ['d']   gill-size\n",
            "                     ['b']   leaf e\n",
            "                     ['n']   leaf p\n",
            "                ['w', 'g', 'p']   leaf e\n",
            "           ['n', 'k', 'h', 'o', 'y', 'b']   leaf e\n",
            "           ['r']   leaf p\n",
            "      ['a', 'l']   leaf e\n",
            "      ['f', 'y', 's', 'p', 'c', 'm']   leaf p\n"
          ]
        }
      ],
      "source": [
        "root=Node()\n",
        "root.fromFeatureVal.append('root')\n",
        "buildTree(root,data_train,10)\n",
        "rep(root,\"\")"
      ]
    },
    {
      "cell_type": "code",
      "execution_count": null,
      "metadata": {
        "colab": {
          "base_uri": "https://localhost:8080/"
        },
        "id": "V1LbJS4xo3w1",
        "outputId": "da181a9f-3d7d-4a5b-e6d7-fa82e97b0c19"
      },
      "outputs": [
        {
          "name": "stdout",
          "output_type": "stream",
          "text": [
            "813  out of  813  correct\n",
            "Acuuracy:  1.0\n"
          ]
        }
      ],
      "source": [
        "pred=[]\n",
        "for i in data_test.index:\n",
        "    t1=data_test.loc[i,:].to_frame().T\n",
        "    pred.append(predict(root , t1))\n",
        "correct=0\n",
        "for i,j in zip(pred,data_test['class']):\n",
        "    if isinstance(i,str):\n",
        "        if j in i:\n",
        "            correct+=1\n",
        "print(correct, \" out of \",data_test.shape[0],\" correct\")\n",
        "print(\"Acuuracy: \",correct/data_test.shape[0])"
      ]
    },
    {
      "cell_type": "markdown",
      "metadata": {
        "id": "iAc1Hs9Xqju9"
      },
      "source": [
        "##Pre-pruning using max-depth"
      ]
    },
    {
      "cell_type": "markdown",
      "metadata": {
        "id": "7gWV6ToFqxUj"
      },
      "source": [
        "###finding best depth using n validation set "
      ]
    },
    {
      "cell_type": "code",
      "execution_count": null,
      "metadata": {
        "id": "TmCewHqDsHsx"
      },
      "outputs": [],
      "source": [
        "from sklearn.model_selection import train_test_split\n",
        "from statistics import mean"
      ]
    },
    {
      "cell_type": "code",
      "execution_count": null,
      "metadata": {
        "id": "j1h3egr7wByy"
      },
      "outputs": [],
      "source": [
        "def find_accuracy(data_test,root):\n",
        "  pred=[]\n",
        "  for i in data_test.index:\n",
        "      t1=data_test.loc[i,:].to_frame().T\n",
        "      pred.append(predict(root , t1))\n",
        "  correct=0\n",
        "  for i,j in zip(pred,data_test['class']):\n",
        "      if isinstance(i,str):\n",
        "          if j in i:\n",
        "              correct+=1\n",
        "  #print(correct, \" out of \",data_test.shape[0],\" correct\")\n",
        "  #print(\"Acuuracy: \",correct/data_test.shape[0])\n",
        "  return correct/data_test.shape[0]\n"
      ]
    },
    {
      "cell_type": "code",
      "execution_count": null,
      "metadata": {
        "id": "AxIa_ye0A2PC"
      },
      "outputs": [],
      "source": [
        "def print_trees(trees):\n",
        "  for i in len(trees):\n",
        "    print('The following are trees formed by validation')"
      ]
    },
    {
      "cell_type": "code",
      "execution_count": null,
      "metadata": {
        "id": "pSqTD8TNqswj"
      },
      "outputs": [],
      "source": [
        "depth,trees1,accuracy,avg_acc=[1,2,3,4,5],[],[],[]\n",
        "n=3\n",
        "for i in depth:\n",
        "  trees1.append([])\n",
        "  accuracy.append([])\n",
        "  for j in range(0,n):\n",
        "    data_train_train, data_train_val=train_test_split(data_train,test_size=0.1)\n",
        "    root=Node()\n",
        "    root.fromFeatureVal.append('root')\n",
        "    buildTree(root,data_train_train,i)\n",
        "    trees1[depth.index(i)].append(root)\n",
        "    accuracy[depth.index(i)].append(find_accuracy(data_train_val,root))\n",
        "  avg_acc.append(mean(accuracy[depth.index(i)]))"
      ]
    },
    {
      "cell_type": "markdown",
      "metadata": {
        "id": "IavqAaPgzKZE"
      },
      "source": [
        "####Finding best accuracy"
      ]
    },
    {
      "cell_type": "code",
      "execution_count": null,
      "metadata": {
        "colab": {
          "base_uri": "https://localhost:8080/"
        },
        "id": "qcZ-SZOe0yIF",
        "outputId": "50e5aab3-c5f5-4c3c-d489-4b37b6a72a9d"
      },
      "outputs": [
        {
          "data": {
            "text/plain": [
              "[0.98224043715847, 0.99408014571949, 0.99408014571949, 1.0, 1.0]"
            ]
          },
          "execution_count": 24,
          "metadata": {},
          "output_type": "execute_result"
        }
      ],
      "source": [
        "avg_acc"
      ]
    },
    {
      "cell_type": "code",
      "execution_count": null,
      "metadata": {
        "colab": {
          "base_uri": "https://localhost:8080/"
        },
        "id": "jxuvrIrpMgdI",
        "outputId": "604f2ffc-78bd-497a-c5d3-e752e9d2bcd1"
      },
      "outputs": [
        {
          "name": "stdout",
          "output_type": "stream",
          "text": [
            "Depth:  1\n",
            " ['root']   odor\n",
            "      ['n', 'l', 'a']   leaf e\n",
            "      ['f', 'y', 's', 'p', 'c', 'm']   leaf p\n",
            "Depth:  2\n",
            " ['root']   odor\n",
            "      ['n']   spore-print-color\n",
            "           ['n', 'k', 'w', 'h', 'o', 'y', 'b']   leaf e\n",
            "           ['r']   leaf p\n",
            "      ['a', 'l']   leaf e\n",
            "      ['f', 'y', 's', 'p', 'c', 'm']   leaf p\n",
            "Depth:  3\n",
            " ['root']   odor\n",
            "      ['n']   spore-print-color\n",
            "           ['w']   habitat\n",
            "                ['w', 'g', 'l', 'd', 'p']   leaf e\n",
            "           ['n', 'k', 'h', 'o', 'y', 'b']   leaf e\n",
            "           ['r']   leaf p\n",
            "      ['a', 'l']   leaf e\n",
            "      ['f', 'y', 's', 'p', 'c', 'm']   leaf p\n",
            "Depth:  4\n",
            " ['root']   odor\n",
            "      ['n']   spore-print-color\n",
            "           ['w']   habitat\n",
            "                ['l']   cap-color\n",
            "                     ['c', 'n']   leaf e\n",
            "                     ['w', 'y']   leaf p\n",
            "                ['d']   gill-size\n",
            "                     ['b']   leaf e\n",
            "                     ['n']   leaf p\n",
            "                ['w', 'g', 'p']   leaf e\n",
            "           ['k', 'n', 'h', 'o', 'y', 'b']   leaf e\n",
            "           ['r']   leaf p\n",
            "      ['a', 'l']   leaf e\n",
            "      ['f', 'y', 's', 'p', 'c', 'm']   leaf p\n",
            "Depth:  5\n",
            " ['root']   odor\n",
            "      ['n']   spore-print-color\n",
            "           ['w']   habitat\n",
            "                ['l']   cap-color\n",
            "                     ['c', 'n']   leaf e\n",
            "                     ['w', 'y']   leaf p\n",
            "                ['d']   gill-size\n",
            "                     ['b']   leaf e\n",
            "                     ['n']   leaf p\n",
            "                ['w', 'g', 'p']   leaf e\n",
            "           ['k', 'n', 'h', 'y', 'o', 'b']   leaf e\n",
            "           ['r']   leaf p\n",
            "      ['a', 'l']   leaf e\n",
            "      ['f', 's', 'y', 'p', 'c', 'm']   leaf p\n"
          ]
        }
      ],
      "source": [
        "j=1\n",
        "for i in trees1:\n",
        "  print(\"Depth: \",j)\n",
        "  j+=1\n",
        "  rep(i[0],\"\")"
      ]
    },
    {
      "cell_type": "code",
      "execution_count": null,
      "metadata": {
        "id": "rBLl-cR_zV7S"
      },
      "outputs": [],
      "source": [
        "def best_depth(avg_acc):\n",
        "  max_acc, bd=0,1\n",
        "  for i in range(len(avg_acc)):\n",
        "    if avg_acc[i]<0.999 and avg_acc[i]>max_acc:\n",
        "      max_acc=avg_acc[i]\n",
        "      bd=depth[i]\n",
        "  return bd"
      ]
    },
    {
      "cell_type": "code",
      "execution_count": null,
      "metadata": {
        "colab": {
          "base_uri": "https://localhost:8080/"
        },
        "id": "xAaWHiJS3ViF",
        "outputId": "4851fc00-d6ec-4161-ce1e-0884d774bf1d"
      },
      "outputs": [
        {
          "data": {
            "text/plain": [
              "2"
            ]
          },
          "execution_count": 27,
          "metadata": {},
          "output_type": "execute_result"
        }
      ],
      "source": [
        "best_depth(avg_acc)"
      ]
    },
    {
      "cell_type": "code",
      "execution_count": null,
      "metadata": {
        "colab": {
          "base_uri": "https://localhost:8080/"
        },
        "id": "hv-zYBrnDImU",
        "outputId": "dfe9feb4-c373-4012-c707-502edf71e635"
      },
      "outputs": [
        {
          "name": "stdout",
          "output_type": "stream",
          "text": [
            " ['root']   odor\n",
            "      ['n']   spore-print-color\n",
            "           ['k', 'n', 'w', 'h', 'o', 'y', 'b']   leaf e\n",
            "           ['r']   leaf p\n",
            "      ['l', 'a']   leaf e\n",
            "      ['f', 'y', 's', 'p', 'c', 'm']   leaf p\n"
          ]
        }
      ],
      "source": [
        "rep(trees1[1][2],\"\")"
      ]
    },
    {
      "cell_type": "markdown",
      "metadata": {
        "id": "rEG_4gx1UU22"
      },
      "source": [
        "##Post-pruning-max depth "
      ]
    },
    {
      "cell_type": "code",
      "execution_count": null,
      "metadata": {
        "colab": {
          "base_uri": "https://localhost:8080/"
        },
        "id": "gmyaFlME5EID",
        "outputId": "ceba578a-2a98-48dd-8434-2ab725e5933f"
      },
      "outputs": [
        {
          "name": "stdout",
          "output_type": "stream",
          "text": [
            " ['root']   odor\n",
            "      ['n']   spore-print-color\n",
            "           ['w']   habitat\n",
            "                ['l']   cap-color\n",
            "                     ['c', 'n']   leaf e\n",
            "                     ['w', 'y']   leaf p\n",
            "                ['d']   gill-size\n",
            "                     ['b']   leaf e\n",
            "                     ['n']   leaf p\n",
            "                ['w', 'g', 'p']   leaf e\n",
            "           ['n', 'k', 'h', 'o', 'y', 'b']   leaf e\n",
            "           ['r']   leaf p\n",
            "      ['a', 'l']   leaf e\n",
            "      ['f', 'y', 's', 'p', 'c', 'm']   leaf p\n"
          ]
        }
      ],
      "source": [
        "root=Node()\n",
        "root.fromFeatureVal.append('root')\n",
        "buildTree(root,data_train,10)\n",
        "rep(root,\"\")"
      ]
    },
    {
      "cell_type": "code",
      "execution_count": null,
      "metadata": {
        "colab": {
          "base_uri": "https://localhost:8080/"
        },
        "id": "RMtUqHNV5MRN",
        "outputId": "94d79e20-57dd-46e4-ebe9-23da6cf70115"
      },
      "outputs": [
        {
          "data": {
            "text/plain": [
              "1.0"
            ]
          },
          "execution_count": 30,
          "metadata": {},
          "output_type": "execute_result"
        }
      ],
      "source": [
        "find_accuracy(data_test,root)"
      ]
    },
    {
      "cell_type": "markdown",
      "metadata": {
        "id": "ozxqPbPf5YvG"
      },
      "source": [
        "####helper function to find leaf value"
      ]
    },
    {
      "cell_type": "code",
      "execution_count": null,
      "metadata": {
        "id": "OaqM85N5YIZE"
      },
      "outputs": [],
      "source": [
        "def find_cnt(root,cl):\n",
        "  if(root.name=='leaf p'):\n",
        "    rl=[cl[0]+1,cl[1]]\n",
        "    return rl\n",
        "  if(root.name=='leaf e'):\n",
        "    rl=[cl[0],cl[1]+1]\n",
        "    return rl\n",
        "  rl=[0,0]\n",
        "  for i in root.child:\n",
        "    tl=[0,0]\n",
        "    cc=find_cnt(i,tl)\n",
        "    rl[0]+=cc[0]\n",
        "    rl[1]+=cc[1]\n",
        "  return rl"
      ]
    },
    {
      "cell_type": "markdown",
      "metadata": {
        "id": "iV_kxv745gaa"
      },
      "source": [
        "###main post-pruning function"
      ]
    },
    {
      "cell_type": "code",
      "execution_count": null,
      "metadata": {
        "id": "uvW2wkdVDgO_"
      },
      "outputs": [],
      "source": [
        "import random"
      ]
    },
    {
      "cell_type": "code",
      "execution_count": null,
      "metadata": {
        "id": "KVWfd3ybRW08"
      },
      "outputs": [],
      "source": [
        "def post_prune(root,depth):\n",
        "  if(root.name=='leaf p' or root.name=='leaf e'):\n",
        "    return root\n",
        "  if(depth==0):\n",
        "    cl=[0,0]\n",
        "    class_cnt=find_cnt(root,cl)\n",
        "    if(class_cnt[0]>class_cnt[1]): \n",
        "      root.name='leaf p'\n",
        "      root.child.clear()\n",
        "    else:\n",
        "      root.name='leaf e'\n",
        "      root.child.clear()\n",
        "    return root\n",
        "  i= root.child[0]\n",
        "  root.child[root.child.index(i)]=post_prune(i,depth-1)\n",
        "  return root"
      ]
    },
    {
      "cell_type": "code",
      "execution_count": null,
      "metadata": {
        "id": "1kI1oSaUZPto"
      },
      "outputs": [],
      "source": [
        "import copy"
      ]
    },
    {
      "cell_type": "code",
      "execution_count": null,
      "metadata": {
        "id": "tFThJe0D1x6X"
      },
      "outputs": [],
      "source": [
        "depth,trees2,accuracy,avg_acc=[1,2,3],[],[],[]\n",
        "n=3\n",
        "for i in depth:\n",
        "  trees2.append([])\n",
        "  accuracy.append([])\n",
        "  for j in range(0,n):\n",
        "    data_train_train, data_train_val=train_test_split(data_train,test_size=0.1)\n",
        "    root=Node()\n",
        "    root.fromFeatureVal.append('root')\n",
        "    buildTree(root,data_train,10)\n",
        "    test_root=copy.copy(root)\n",
        "    test_root=post_prune(test_root,i)\n",
        "    trees2[depth.index(i)].append(test_root)\n",
        "    accuracy[depth.index(i)].append(find_accuracy(data_train_val,test_root))\n",
        "  avg_acc.append(mean(accuracy[depth.index(i)]))"
      ]
    },
    {
      "cell_type": "code",
      "execution_count": null,
      "metadata": {
        "colab": {
          "base_uri": "https://localhost:8080/"
        },
        "id": "YXZdWT014D1X",
        "outputId": "475bf14a-8a2e-4648-f9f2-cc8438ec8222"
      },
      "outputs": [
        {
          "data": {
            "text/plain": [
              "[0.9854280510018215, 0.9931693989071039, 0.9990892531876139]"
            ]
          },
          "execution_count": 45,
          "metadata": {},
          "output_type": "execute_result"
        }
      ],
      "source": [
        "avg_acc"
      ]
    },
    {
      "cell_type": "code",
      "execution_count": null,
      "metadata": {
        "id": "YyOJ8b5XFnIL"
      },
      "outputs": [],
      "source": [
        "def best_depth2(avg_acc):\n",
        "  max_acc, bd=0,1\n",
        "  for i in range(len(avg_acc)):\n",
        "    if avg_acc[i]<0.995 and avg_acc[i]>max_acc:\n",
        "      max_acc=avg_acc[i]\n",
        "      bd=depth[i]\n",
        "  return bd"
      ]
    },
    {
      "cell_type": "code",
      "execution_count": null,
      "metadata": {
        "colab": {
          "base_uri": "https://localhost:8080/"
        },
        "id": "TtqfW5e8MAIf",
        "outputId": "662c33f6-7518-4cdf-bf62-a53183e47dfe"
      },
      "outputs": [
        {
          "name": "stdout",
          "output_type": "stream",
          "text": [
            "Depth:  1\n",
            " ['root']   odor\n",
            "      ['n']   leaf e\n",
            "      ['a', 'l']   leaf e\n",
            "      ['f', 'y', 's', 'p', 'c', 'm']   leaf p\n",
            "Depth:  2\n",
            " ['root']   odor\n",
            "      ['n']   spore-print-color\n",
            "           ['w']   leaf e\n",
            "           ['n', 'k', 'h', 'o', 'y', 'b']   leaf e\n",
            "           ['r']   leaf p\n",
            "      ['a', 'l']   leaf e\n",
            "      ['f', 'y', 's', 'p', 'c', 'm']   leaf p\n",
            "Depth:  3\n",
            " ['root']   odor\n",
            "      ['n']   spore-print-color\n",
            "           ['w']   habitat\n",
            "                ['l']   leaf e\n",
            "                ['d']   gill-size\n",
            "                     ['b']   leaf e\n",
            "                     ['n']   leaf p\n",
            "                ['w', 'g', 'p']   leaf e\n",
            "           ['n', 'k', 'h', 'o', 'y', 'b']   leaf e\n",
            "           ['r']   leaf p\n",
            "      ['a', 'l']   leaf e\n",
            "      ['f', 'y', 's', 'p', 'c', 'm']   leaf p\n"
          ]
        }
      ],
      "source": [
        "j=1\n",
        "for i in trees2:\n",
        "  print(\"Depth: \",j)\n",
        "  j+=1\n",
        "  rep(i[0],\"\")"
      ]
    },
    {
      "cell_type": "code",
      "execution_count": null,
      "metadata": {
        "colab": {
          "base_uri": "https://localhost:8080/"
        },
        "id": "e2QiWd3o3n8s",
        "outputId": "293c6713-e0d3-44e3-a981-c43b5b2cd42f"
      },
      "outputs": [
        {
          "data": {
            "text/plain": [
              "2"
            ]
          },
          "execution_count": 48,
          "metadata": {},
          "output_type": "execute_result"
        }
      ],
      "source": [
        "best_depth2(avg_acc)"
      ]
    },
    {
      "cell_type": "code",
      "execution_count": null,
      "metadata": {
        "colab": {
          "base_uri": "https://localhost:8080/"
        },
        "id": "6jkngnm1F660",
        "outputId": "b0c596b7-483b-4729-fd22-f37a219eed89"
      },
      "outputs": [
        {
          "name": "stdout",
          "output_type": "stream",
          "text": [
            " ['root']   odor\n",
            "      ['n']   spore-print-color\n",
            "           ['w']   leaf e\n",
            "           ['n', 'k', 'h', 'o', 'y', 'b']   leaf e\n",
            "           ['r']   leaf p\n",
            "      ['a', 'l']   leaf e\n",
            "      ['f', 'y', 's', 'p', 'c', 'm']   leaf p\n"
          ]
        }
      ],
      "source": [
        "rep(trees2[1][0],\"\")"
      ]
    }
  ],
  "metadata": {
    "colab": {
      "provenance": []
    },
    "kernelspec": {
      "display_name": "Python 3.9.7 ('base')",
      "language": "python",
      "name": "python3"
    },
    "language_info": {
      "name": "python",
      "version": "3.9.7"
    },
    "vscode": {
      "interpreter": {
        "hash": "c0b873c9b5d103abd2609cf223a933618b9c3b2beba21e6685b45ed7f3a37b8e"
      }
    }
  },
  "nbformat": 4,
  "nbformat_minor": 0
}
